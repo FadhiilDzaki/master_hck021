{
 "cells": [
  {
   "cell_type": "markdown",
   "metadata": {},
   "source": [
    "# NGC 2: Python Function, Conditional, and LoopFTDS \n",
    "Phase 0 - Week 1\n",
    "____\n"
   ]
  },
  {
   "cell_type": "markdown",
   "metadata": {},
   "source": [
    "## Task #1 - Number of Word"
   ]
  },
  {
   "cell_type": "markdown",
   "metadata": {},
   "source": [
    "Create a function that count the number of word in a sentence.\n",
    "\n",
    "Instruction:\n",
    "1. Create function called `number_of_word`.\n",
    "2. This function takes 1 input, `sentence`.\n",
    "3. Inside this function, you can utilize `.split()` method to split the sentence into list of word(s).\n",
    "4. Also, `len()` function to count the element inside a list.\n",
    "5. Return the number of word from the sentence.\n",
    "\n",
    "Example:\n",
    "- Input: number_of_word(sentence = ’Hello World!’)\n",
    "- Output: 2\n",
    "- Input: number_of_word(sentence = ’Once Upon a Time in a faraway land’)\n",
    "- Output: 8"
   ]
  },
  {
   "cell_type": "code",
   "execution_count": 14,
   "metadata": {},
   "outputs": [],
   "source": [
    "# fungsi number_of_word\n",
    "def number_of_word(sentence):\n",
    "    '''\n",
    "    fungsi ini digunakan untuk menghitung jumlah kata dalam suatu kalimat.\n",
    "\n",
    "    argumen:\n",
    "    sentence = kalimat yang akan dihitung jumlah katanya\n",
    "\n",
    "    contoh penggunaan:\n",
    "    number_of_word('raja bajak laut')\n",
    "\n",
    "    output:\n",
    "    3\n",
    "    '''\n",
    "\n",
    "    # memisahkan setiap kata dalam kalimat ke dalam list\n",
    "    sentence_split = sentence.split()\n",
    "\n",
    "    # output\n",
    "    print(len(sentence_split))"
   ]
  },
  {
   "cell_type": "code",
   "execution_count": 15,
   "metadata": {},
   "outputs": [
    {
     "name": "stdout",
     "output_type": "stream",
     "text": [
      "2\n"
     ]
    }
   ],
   "source": [
    "# example 1 'Hello World!'\n",
    "number_of_word('Hello World!')"
   ]
  },
  {
   "cell_type": "code",
   "execution_count": 16,
   "metadata": {},
   "outputs": [
    {
     "name": "stdout",
     "output_type": "stream",
     "text": [
      "8\n"
     ]
    }
   ],
   "source": [
    "# example 2 'Once Upon a Time in a faraway land'\n",
    "number_of_word('Once Upon a Time in a faraway land')"
   ]
  },
  {
   "cell_type": "markdown",
   "metadata": {},
   "source": [
    "## Task #2 - Find Multiple"
   ]
  },
  {
   "cell_type": "markdown",
   "metadata": {},
   "source": [
    "Create a function that will get list of number(s) from a certain range that multiples of given number.\n",
    "\n",
    "Instruction:\n",
    "1. Create function called `find_multiples`.\n",
    "2. This function takes 3 input: `start_range`, `end_range`, and `multiple`.\n",
    "3. From every number within the given range, check if that number is the mutliples of `multiple`.\n",
    "4. Return list of the possible multiple number(s).\n",
    "\n",
    "Example:\n",
    "- Input: find_multiple(start_range= 1, end_range= 20, multiple= 5)\n",
    "- Output: [5, 10, 15, 20]\n",
    "- Input: find_multiple(start_range= 1, end_range= 50, multiple= 10)\n",
    "- Output: [10, 20, 30, 40, 50]\n"
   ]
  },
  {
   "cell_type": "code",
   "execution_count": 28,
   "metadata": {},
   "outputs": [
    {
     "name": "stdout",
     "output_type": "stream",
     "text": [
      "[5, 10, 15, 20]\n",
      "[10, 20, 30, 40, 50]\n"
     ]
    }
   ],
   "source": [
    "# function that will get list of number(s) from a certain range that multiples of given number.\n",
    "def find_multiples(start_range,end_range,multiple):\n",
    "    # inisiasi list\n",
    "    result_list = []\n",
    "\n",
    "    # loop perkalian setiap angka dalam range dengan nilai multiple\n",
    "    for i in range(start_range,end_range):\n",
    "        # store hasil perkalian dalam result_list\n",
    "        result_list.append(i*multiple)\n",
    "\n",
    "    # menampilkan value dengan nilai maksimal end_range\n",
    "    print(result_list[:result_list.index(end_range)+1])\n",
    "\n",
    "# test\n",
    "find_multiples(1,20,5)\n",
    "find_multiples(1,50,10)\n"
   ]
  },
  {
   "cell_type": "markdown",
   "metadata": {},
   "source": [
    "## Task #3 - Grade Converter"
   ]
  },
  {
   "attachments": {
    "image.png": {
     "image/png": "[encoded data removed]"
    }
   },
   "cell_type": "markdown",
   "metadata": {},
   "source": [
    "![image.png](attachment:image.png)"
   ]
  },
  {
   "cell_type": "markdown",
   "metadata": {},
   "source": [
    "Create a function that will convert student’s grade to GPA.\n",
    "\n",
    "Instruction:\n",
    "1. Create function called `Grade_Converter`.\n",
    "2. This function takes input: `convert_to` and n-paired of student(s) name with its respective score.\n",
    "3. Input argument for `convert_to` is either `letter_grade` or `gpa`.\n",
    "4. You can utilize **kwargs input argument to generate n-length paired of student(s) name with its respective score (Dictionary).\n",
    "5. This function will return dictionary of student’s name along with converted Letter Grade or GPA, depending on user input in `convert_to` parameter\n",
    "\n",
    "Example:\n",
    "- Input: Grade_Converter(convert_to='gpa', Adam=62, Faiz=91)\n",
    "- Output: {'Adam': 2.5, 'Faiz': 4}\n",
    "- Input: Grade_Converter(convert_to='letter_grade', Albert=90, Dwi=82, Syahdan=58, Veronica=84)\n",
    "- Output: {'Albert': 'A', 'Dwi': 'B', 'Syahdan': 'D','Veronica': 'B'}"
   ]
  },
  {
   "cell_type": "code",
   "execution_count": 22,
   "metadata": {},
   "outputs": [
    {
     "name": "stdout",
     "output_type": "stream",
     "text": [
      "{'Adam': 2.5, 'Faiz': 4}\n",
      "{'Albert': 'A', 'Dwi': 'B', 'Syahdan': 'D', 'Veronica': 'B'}\n"
     ]
    }
   ],
   "source": [
    "# fungsi untuk convert GPA 4.0 scale to Letter atau sebaliknya\n",
    "def Grade_Converter(convert_to,**name_score):\n",
    "    convert_to = convert_to.lower()\n",
    "    # kondisi 4.0 scale to Letter\n",
    "    if convert_to == 'gpa':\n",
    "        # loop memisahkan value dan key\n",
    "        for key, value in name_score.items():\n",
    "            # kondisi nilai kurang dari 40\n",
    "            if value < 40:\n",
    "                name_score[key] = 1\n",
    "            # kondisi nilai kurang dari 40\n",
    "            elif value < 50:\n",
    "                name_score[key] = 1.5\n",
    "            # kondisi nilai kurang dari 40\n",
    "            elif value < 60:\n",
    "                name_score[key] = 2\n",
    "            # kondisi nilai kurang dari 40\n",
    "            elif value < 70:\n",
    "                name_score[key] = 2.5\n",
    "            # kondisi nilai kurang dari 40\n",
    "            elif value < 85:\n",
    "                name_score[key] = 3\n",
    "            # kondisi nilai kurang dari 40\n",
    "            elif 85 <= value <=100:\n",
    "                name_score[key] = 4\n",
    "            # kondisi nilai kurang dari 40\n",
    "            else:\n",
    "                print('Nilai melebihi batas')\n",
    "\n",
    "    # kondisi GPA 4.0 scale to Letter Grade\n",
    "    elif convert_to == 'letter_grade':\n",
    "        # loop memisahkan value dan key\n",
    "        for key, value in name_score.items():\n",
    "            # kondisi nilai kurang dari 40\n",
    "            if value < 40:\n",
    "                name_score[key] = 'F'\n",
    "            # kondisi nilai kurang dari 40\n",
    "            elif value < 50:\n",
    "                name_score[key] = 'E'\n",
    "            # kondisi nilai kurang dari 40\n",
    "            elif value < 60:\n",
    "                name_score[key] = 'D'\n",
    "            # kondisi nilai kurang dari 40\n",
    "            elif value < 70:\n",
    "                name_score[key] = 'C'\n",
    "            # kondisi nilai kurang dari 40\n",
    "            elif value < 85:\n",
    "                name_score[key] = 'B'\n",
    "            # kondisi nilai kurang dari 40\n",
    "            elif 85 <= value <=100:\n",
    "                name_score[key] = 'A'\n",
    "            # kondisi nilai kurang dari 40\n",
    "            else:\n",
    "                print('Nilai melebihi batas')\n",
    "    \n",
    "    else:\n",
    "        print ('pilih convert ke GPA atau Letter Grade')\n",
    "        \n",
    "    print(name_score)\n",
    "\n",
    "\n",
    "    \n",
    "# test\n",
    "Grade_Converter(convert_to='gpa', Adam=62, Faiz=91)\n",
    "Grade_Converter(convert_to='letter_grade', Albert=90, Dwi=82, Syahdan=58, Veronica=84)"
   ]
  },
  {
   "cell_type": "markdown",
   "metadata": {},
   "source": [
    "# Task #4 - Fibonacci Sequence"
   ]
  },
  {
   "attachments": {
    "image.png": {
     "image/png": "[encoded data removed]"
    }
   },
   "cell_type": "markdown",
   "metadata": {},
   "source": [
    "Fibonacci sequence is a sequence in which each number is the sum of the two preceding ones. Suppose we have fibonacci sequence started with:<br>\n",
    "0, 1, 1, 2, 3, 5, ...<br>\n",
    "The next number should be 8 or sum of the two precedings, 3 and 5:<br>\n",
    "0, 1, 1, 2, 3, 5, 8, ...<br>\n",
    "Then the next number should be 13 or sum of the two precedings, 5 and 8:<br>\n",
    "0, 1, 1, 2, 3, 5, 8, 13, ...<br>\n",
    "And so on.\n",
    "\n",
    "Instruction:\n",
    "1. The function will take 1 input parameter, n, represents the asked number from our fibonacci sequence index.\n",
    "2. The fibonacci sequence will start with the value of 0 and 1.\n",
    "3. This function will return the n-th value from fibonacci sequence.\n",
    "\n",
    "example:<br>\n",
    "![image.png](attachment:image.png) <br>\n",
    "- Input: my_function(n=0)\n",
    "- Output: 0\n",
    "- Input: my_function(n=4)\n",
    "- Output: 3\n",
    "- Input: my_function(n=10)\n",
    "- Output: 55\n"
   ]
  },
  {
   "cell_type": "code",
   "execution_count": null,
   "metadata": {},
   "outputs": [],
   "source": [
    "def fibonacci(n):\n",
    "    #inisiasi penjumlahan\n"
   ]
  }
 ],
 "metadata": {
  "kernelspec": {
   "display_name": "base",
   "language": "python",
   "name": "python3"
  },
  "language_info": {
   "codemirror_mode": {
    "name": "ipython",
    "version": 3
   },
   "file_extension": ".py",
   "mimetype": "text/x-python",
   "name": "python",
   "nbconvert_exporter": "python",
   "pygments_lexer": "ipython3",
   "version": "3.12.4"
  }
 },
 "nbformat": 4,
 "nbformat_minor": 2
}
